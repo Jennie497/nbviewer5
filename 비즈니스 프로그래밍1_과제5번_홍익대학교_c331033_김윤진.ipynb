{
 "cells": [
  {
   "cell_type": "markdown",
   "metadata": {},
   "source": [
    "c331033 김윤진"
   ]
  },
  {
   "cell_type": "markdown",
   "metadata": {},
   "source": [
    "# 데이터유형"
   ]
  },
  {
   "cell_type": "code",
   "execution_count": 11,
   "metadata": {},
   "outputs": [
    {
     "name": "stdout",
     "output_type": "stream",
     "text": [
      "x_value = 12345\n",
      "type(x_value) = <class 'int'>\n"
     ]
    }
   ],
   "source": [
    "x_value = 12345\n",
    "\n",
    "print(f'{x_value = }\\n{type(x_value) = }')"
   ]
  },
  {
   "cell_type": "code",
   "execution_count": 12,
   "metadata": {},
   "outputs": [
    {
     "name": "stdout",
     "output_type": "stream",
     "text": [
      "x_str = 'abcde'\n",
      "type(x_str) = <class 'str'>\n"
     ]
    }
   ],
   "source": [
    "x_str = 'abcde'\n",
    "\n",
    "print(f'{x_str = }\\n{type(x_str) = }')"
   ]
  },
  {
   "cell_type": "code",
   "execution_count": 13,
   "metadata": {},
   "outputs": [
    {
     "name": "stdout",
     "output_type": "stream",
     "text": [
      "x_list = ['abcde', 12345]\n",
      "type(x_list) = <class 'list'>\n"
     ]
    }
   ],
   "source": [
    "x_list = [x_str, x_value]\n",
    "\n",
    "print(f'{x_list = }\\n{type(x_list) = }')"
   ]
  },
  {
   "cell_type": "code",
   "execution_count": 14,
   "metadata": {},
   "outputs": [
    {
     "name": "stdout",
     "output_type": "stream",
     "text": [
      "x_tuple = ('abcde', 12345)\n",
      "type(x_tuple)=<class 'tuple'>\n"
     ]
    }
   ],
   "source": [
    "x_tuple = (x_str, x_value)\n",
    "\n",
    "print(f'{x_tuple = }\\n{type(x_tuple)=}')"
   ]
  },
  {
   "cell_type": "code",
   "execution_count": 15,
   "metadata": {},
   "outputs": [
    {
     "name": "stdout",
     "output_type": "stream",
     "text": [
      "x_dict = {'name': 'Chunghun Ha', 'id': 68490}\n",
      "type(x_dict) = <class 'dict'>\n"
     ]
    }
   ],
   "source": [
    "x_dict = {'name': 'Chunghun Ha', 'id':68490}\n",
    "\n",
    "print(f'{x_dict = }\\n{type(x_dict) = }')\n"
   ]
  },
  {
   "cell_type": "code",
   "execution_count": 16,
   "metadata": {},
   "outputs": [
    {
     "name": "stdout",
     "output_type": "stream",
     "text": [
      "x_none = None\n",
      "type(x_none) = <class 'NoneType'>\n"
     ]
    }
   ],
   "source": [
    "x_none = None\n",
    "\n",
    "print(f'{x_none = }\\n{type(x_none) = }')"
   ]
  },
  {
   "cell_type": "markdown",
   "metadata": {},
   "source": [
    "# 추가학습 내용"
   ]
  },
  {
   "cell_type": "code",
   "execution_count": 17,
   "metadata": {},
   "outputs": [
    {
     "name": "stdout",
     "output_type": "stream",
     "text": [
      "var_x= 12345\n",
      "type(var_x)=<class 'int'>\n"
     ]
    }
   ],
   "source": [
    "var_x = 12345\n",
    "print(f'{var_x= }')\n",
    "print(f'{type(var_x)=}')"
   ]
  },
  {
   "cell_type": "markdown",
   "metadata": {},
   "source": [
    "var_x의 유형은 클래스(class) 'int'임. 즉, 객체(object)임"
   ]
  },
  {
   "cell_type": "markdown",
   "metadata": {},
   "source": [
    "# 추가학습 내용 끝"
   ]
  },
  {
   "cell_type": "code",
   "execution_count": 18,
   "metadata": {},
   "outputs": [
    {
     "name": "stdout",
     "output_type": "stream",
     "text": [
      "['__abs__', '__add__', '__and__', '__bool__', '__ceil__', '__class__', '__delattr__', '__dir__', '__divmod__', '__doc__', '__eq__', '__float__', '__floor__', '__floordiv__', '__format__', '__ge__', '__getattribute__', '__getnewargs__', '__getstate__', '__gt__', '__hash__', '__index__', '__init__', '__init_subclass__', '__int__', '__invert__', '__le__', '__lshift__', '__lt__', '__mod__', '__mul__', '__ne__', '__neg__', '__new__', '__or__', '__pos__', '__pow__', '__radd__', '__rand__', '__rdivmod__', '__reduce__', '__reduce_ex__', '__repr__', '__rfloordiv__', '__rlshift__', '__rmod__', '__rmul__', '__ror__', '__round__', '__rpow__', '__rrshift__', '__rshift__', '__rsub__', '__rtruediv__', '__rxor__', '__setattr__', '__sizeof__', '__str__', '__sub__', '__subclasshook__', '__truediv__', '__trunc__', '__xor__', 'as_integer_ratio', 'bit_count', 'bit_length', 'conjugate', 'denominator', 'from_bytes', 'imag', 'is_integer', 'numerator', 'real', 'to_bytes']\n"
     ]
    }
   ],
   "source": [
    "print(dir(x_value))"
   ]
  },
  {
   "cell_type": "code",
   "execution_count": 19,
   "metadata": {},
   "outputs": [
    {
     "name": "stdout",
     "output_type": "stream",
     "text": [
      "x_value.real = 12345\n",
      "x_value.bit_length() = 14\n"
     ]
    }
   ],
   "source": [
    "print(f'{x_value.real = }')\n",
    "\n",
    "print(f'{x_value.bit_length() = }')"
   ]
  },
  {
   "cell_type": "code",
   "execution_count": 20,
   "metadata": {},
   "outputs": [
    {
     "name": "stdout",
     "output_type": "stream",
     "text": [
      "Before: x_list = ['abcde', 12345]\n",
      "After : x_list = ['abcde', 'fghij']\n"
     ]
    }
   ],
   "source": [
    "x_list = ['abcde', 12345]\n",
    "\n",
    "print(f'Before: {x_list = }')\n",
    "\n",
    "x_list[1] = 'fghij'\n",
    "\n",
    "print(f'After : {x_list = }')\n"
   ]
  },
  {
   "cell_type": "code",
   "execution_count": 21,
   "metadata": {},
   "outputs": [
    {
     "name": "stdout",
     "output_type": "stream",
     "text": [
      "Before: x_dict = {'name': 'Chunghun Ha', 'id': 67890}\n",
      "After : x_dict = {'name': 'Gildong Hong', 'id': 67890}\n"
     ]
    }
   ],
   "source": [
    "x_dict = {'name': 'Chunghun Ha', 'id':67890}\n",
    "\n",
    "print(f'Before: {x_dict = }')\n",
    "\n",
    "x_dict['name'] = 'Gildong Hong'\n",
    "\n",
    "print(f'After : {x_dict = }')\n"
   ]
  },
  {
   "cell_type": "code",
   "execution_count": 22,
   "metadata": {},
   "outputs": [
    {
     "name": "stdout",
     "output_type": "stream",
     "text": [
      "Before: x_str = 'abcde'\n",
      "Error: 'str' object does not support item assignment\n",
      "After : x_str = 'abcde'\n"
     ]
    }
   ],
   "source": [
    "x_str = 'abcde'\n",
    "\n",
    "print(f'Before: {x_str = }')\n",
    "\n",
    "try:\n",
    "    x_str[1] = '2'\n",
    "except TypeError as e:\n",
    "    print(f'Error: {e}')\n",
    "\n",
    "print(f'After : {x_str = }')"
   ]
  },
  {
   "cell_type": "code",
   "execution_count": 23,
   "metadata": {},
   "outputs": [
    {
     "name": "stdout",
     "output_type": "stream",
     "text": [
      "Before: x_tuple = ('abcde', 12345)\n",
      "Error : 'tuple' object does not support item assignment\n",
      "After : x_tuple =('abcde', 12345)\n"
     ]
    }
   ],
   "source": [
    "x_tuple = ('abcde', 12345)\n",
    "\n",
    "print(f'Before: {x_tuple = }')\n",
    "\n",
    "try:\n",
    "    x_tuple[1] = 'fghij'\n",
    "except TypeError as e:\n",
    "    print(f'Error : {e}')\n",
    "\n",
    "print(f'After : {x_tuple =}')\n",
    "\n",
    "\n"
   ]
  },
  {
   "cell_type": "code",
   "execution_count": 24,
   "metadata": {},
   "outputs": [
    {
     "name": "stdout",
     "output_type": "stream",
     "text": [
      "12345는 <class 'int'>\n",
      "------------------------------\n",
      "12345.0는 <class 'float'>\n",
      "------------------------------\n",
      "12345는 <class 'str'>\n",
      "------------------------------\n",
      "True는 <class 'bool'>\n"
     ]
    }
   ],
   "source": [
    "var_x = 12345\n",
    "\n",
    "print(f'{var_x}는 {type(var_x)}', end='\\n'+'-'*30+'\\n')\n",
    "\n",
    "var_y = float(var_x)\n",
    "\n",
    "print(f'{var_y}는 {type(var_y)}', end='\\n'+'-'*30+'\\n')\n",
    "\n",
    "var_y = str(var_x)\n",
    "\n",
    "print(f'{var_y}는 {type(var_y)}', end='\\n'+'-'*30+'\\n')\n",
    "\n",
    "var_y = bool(var_x)\n",
    "\n",
    "print(f'{var_y}는 {type(var_y)}')"
   ]
  },
  {
   "cell_type": "markdown",
   "metadata": {},
   "source": [
    "# 추가학습 내용"
   ]
  },
  {
   "cell_type": "code",
   "execution_count": 25,
   "metadata": {},
   "outputs": [
    {
     "data": {
      "text/plain": [
       "'AbcAbc'"
      ]
     },
     "execution_count": 25,
     "metadata": {},
     "output_type": "execute_result"
    }
   ],
   "source": [
    "'Abc' + \"Abc\""
   ]
  },
  {
   "cell_type": "markdown",
   "metadata": {},
   "source": [
    "문자열은 +를 붙이기로 인식"
   ]
  },
  {
   "cell_type": "code",
   "execution_count": 26,
   "metadata": {},
   "outputs": [
    {
     "data": {
      "text/plain": [
       "579"
      ]
     },
     "execution_count": 26,
     "metadata": {},
     "output_type": "execute_result"
    }
   ],
   "source": [
    "123+456"
   ]
  },
  {
   "cell_type": "markdown",
   "metadata": {},
   "source": [
    "숫자는 +를 더하기로 인식"
   ]
  },
  {
   "cell_type": "code",
   "execution_count": 27,
   "metadata": {},
   "outputs": [
    {
     "data": {
      "text/plain": [
       "[1, 2, 3, 4, 5, 6]"
      ]
     },
     "execution_count": 27,
     "metadata": {},
     "output_type": "execute_result"
    }
   ],
   "source": [
    "[1,2,3] + [4,5,6]"
   ]
  },
  {
   "cell_type": "markdown",
   "metadata": {},
   "source": [
    "리스트는 덧셈이 요소들을 연결하는것으로 인식"
   ]
  },
  {
   "cell_type": "code",
   "execution_count": 28,
   "metadata": {},
   "outputs": [
    {
     "data": {
      "text/plain": [
       "(1, 2, 3, 4, 5, 6)"
      ]
     },
     "execution_count": 28,
     "metadata": {},
     "output_type": "execute_result"
    }
   ],
   "source": [
    "(1,2,3)+(4,5,6)"
   ]
  },
  {
   "cell_type": "markdown",
   "metadata": {},
   "source": [
    "튜플은 덧셈이 요소들을 연결하는것으로 인식"
   ]
  },
  {
   "cell_type": "code",
   "execution_count": 29,
   "metadata": {},
   "outputs": [
    {
     "data": {
      "text/plain": [
       "(1, 2, 3, 1, 2, 3)"
      ]
     },
     "execution_count": 29,
     "metadata": {},
     "output_type": "execute_result"
    }
   ],
   "source": [
    "(1,2,3)+(1,2,3)"
   ]
  },
  {
   "cell_type": "markdown",
   "metadata": {},
   "source": [
    "튜플은 덧셈이 요소들을 연결하는것으로 인식"
   ]
  },
  {
   "cell_type": "markdown",
   "metadata": {},
   "source": [
    "{1,2,3}+{1,2,3}은 에러가 난다. 집합은 덧셈이 불가능하기 때문이다."
   ]
  },
  {
   "cell_type": "code",
   "execution_count": 30,
   "metadata": {},
   "outputs": [
    {
     "data": {
      "text/plain": [
       "['A', 'b', 'c', 'A', 'b', 'c', 'A', 'b', 'c']"
      ]
     },
     "execution_count": 30,
     "metadata": {},
     "output_type": "execute_result"
    }
   ],
   "source": [
    "['A','b','c']*3"
   ]
  },
  {
   "cell_type": "markdown",
   "metadata": {},
   "source": [
    "['A', 'b', 'c']라는 리스트를 3번 반복한다."
   ]
  },
  {
   "cell_type": "code",
   "execution_count": 31,
   "metadata": {},
   "outputs": [
    {
     "data": {
      "text/plain": [
       "6.0"
      ]
     },
     "execution_count": 31,
     "metadata": {},
     "output_type": "execute_result"
    }
   ],
   "source": [
    "3.0*2"
   ]
  },
  {
   "cell_type": "markdown",
   "metadata": {},
   "source": [
    "숫자 3.0을 2배 곱하는 연산이다."
   ]
  },
  {
   "cell_type": "code",
   "execution_count": 32,
   "metadata": {},
   "outputs": [
    {
     "data": {
      "text/plain": [
       "'AbcAbcAbcAbcAbcAbcAbcAbcAbcAbc'"
      ]
     },
     "execution_count": 32,
     "metadata": {},
     "output_type": "execute_result"
    }
   ],
   "source": [
    "'Abc'*10"
   ]
  },
  {
   "cell_type": "markdown",
   "metadata": {},
   "source": [
    "문자열 'Abc'를 10번 반복하는 연산이다."
   ]
  },
  {
   "cell_type": "code",
   "execution_count": 33,
   "metadata": {},
   "outputs": [
    {
     "data": {
      "text/plain": [
       "False"
      ]
     },
     "execution_count": 33,
     "metadata": {},
     "output_type": "execute_result"
    }
   ],
   "source": [
    "bool(0)"
   ]
  },
  {
   "cell_type": "markdown",
   "metadata": {},
   "source": [
    "불리언에서 숫자인 경우 0이면 false다."
   ]
  },
  {
   "cell_type": "code",
   "execution_count": 34,
   "metadata": {},
   "outputs": [
    {
     "data": {
      "text/plain": [
       "False"
      ]
     },
     "execution_count": 34,
     "metadata": {},
     "output_type": "execute_result"
    }
   ],
   "source": [
    "bool(0.0)"
   ]
  },
  {
   "cell_type": "markdown",
   "metadata": {},
   "source": [
    "불리언에서 숫자인 경우 0이면 false다."
   ]
  },
  {
   "cell_type": "code",
   "execution_count": 35,
   "metadata": {},
   "outputs": [
    {
     "data": {
      "text/plain": [
       "True"
      ]
     },
     "execution_count": 35,
     "metadata": {},
     "output_type": "execute_result"
    }
   ],
   "source": [
    "bool(0.1)"
   ]
  },
  {
   "cell_type": "markdown",
   "metadata": {},
   "source": [
    "불리언에서 숫자인 경우 0이 아니면 true다."
   ]
  },
  {
   "cell_type": "code",
   "execution_count": 36,
   "metadata": {},
   "outputs": [
    {
     "data": {
      "text/plain": [
       "True"
      ]
     },
     "execution_count": 36,
     "metadata": {},
     "output_type": "execute_result"
    }
   ],
   "source": [
    "bool(-0.1)"
   ]
  },
  {
   "cell_type": "markdown",
   "metadata": {},
   "source": [
    "불리언에서 숫자인 경우 0이 아니면 true다."
   ]
  },
  {
   "cell_type": "code",
   "execution_count": 37,
   "metadata": {},
   "outputs": [
    {
     "data": {
      "text/plain": [
       "False"
      ]
     },
     "execution_count": 37,
     "metadata": {},
     "output_type": "execute_result"
    }
   ],
   "source": [
    "bool('')"
   ]
  },
  {
   "cell_type": "markdown",
   "metadata": {},
   "source": [
    "불리언에서 원소가 없으면 false다."
   ]
  },
  {
   "cell_type": "code",
   "execution_count": 38,
   "metadata": {},
   "outputs": [
    {
     "data": {
      "text/plain": [
       "True"
      ]
     },
     "execution_count": 38,
     "metadata": {},
     "output_type": "execute_result"
    }
   ],
   "source": [
    "bool(' ')"
   ]
  },
  {
   "cell_type": "markdown",
   "metadata": {},
   "source": [
    "불리언에서 원소가 있으면 true다."
   ]
  },
  {
   "cell_type": "code",
   "execution_count": 39,
   "metadata": {},
   "outputs": [
    {
     "data": {
      "text/plain": [
       "True"
      ]
     },
     "execution_count": 39,
     "metadata": {},
     "output_type": "execute_result"
    }
   ],
   "source": [
    "bool([0])"
   ]
  },
  {
   "cell_type": "markdown",
   "metadata": {},
   "source": [
    "리스트 [0]는 요소가 하나 있기 때문에 0을 포함하고 있더라도 True이다."
   ]
  },
  {
   "cell_type": "code",
   "execution_count": 40,
   "metadata": {},
   "outputs": [
    {
     "data": {
      "text/plain": [
       "False"
      ]
     },
     "execution_count": 40,
     "metadata": {},
     "output_type": "execute_result"
    }
   ],
   "source": [
    "bool([])"
   ]
  },
  {
   "cell_type": "markdown",
   "metadata": {},
   "source": [
    "리스트에 요소가 없기 때문에 False이다."
   ]
  },
  {
   "cell_type": "code",
   "execution_count": 41,
   "metadata": {},
   "outputs": [
    {
     "data": {
      "text/plain": [
       "False"
      ]
     },
     "execution_count": 41,
     "metadata": {},
     "output_type": "execute_result"
    }
   ],
   "source": [
    "bool(())"
   ]
  },
  {
   "cell_type": "markdown",
   "metadata": {},
   "source": [
    "튜플에 요소가 없기 때문에 False이다."
   ]
  },
  {
   "cell_type": "code",
   "execution_count": 42,
   "metadata": {},
   "outputs": [
    {
     "data": {
      "text/plain": [
       "False"
      ]
     },
     "execution_count": 42,
     "metadata": {},
     "output_type": "execute_result"
    }
   ],
   "source": [
    "bool((0))"
   ]
  },
  {
   "cell_type": "markdown",
   "metadata": {},
   "source": [
    "0은 원소로서의 0이 아니라 숫자로서의 0이기 때문에 False이다."
   ]
  },
  {
   "cell_type": "code",
   "execution_count": 43,
   "metadata": {},
   "outputs": [
    {
     "data": {
      "text/plain": [
       "True"
      ]
     },
     "execution_count": 43,
     "metadata": {},
     "output_type": "execute_result"
    }
   ],
   "source": [
    "bool((0,))"
   ]
  },
  {
   "cell_type": "markdown",
   "metadata": {},
   "source": [
    "콤마로 인해 튜플이어서 0이란 원소를 갖기에 True이다."
   ]
  },
  {
   "cell_type": "code",
   "execution_count": 44,
   "metadata": {},
   "outputs": [
    {
     "data": {
      "text/plain": [
       "'12345'"
      ]
     },
     "execution_count": 44,
     "metadata": {},
     "output_type": "execute_result"
    }
   ],
   "source": [
    "str(12345)"
   ]
  },
  {
   "cell_type": "markdown",
   "metadata": {},
   "source": [
    "str() 함수는 객체를 문자열 형식으로 변환하는 함수이다. 숫자 12345를 str() 함수에 전달하면, 숫자가 문자열 '12345'로 변환된다."
   ]
  },
  {
   "cell_type": "code",
   "execution_count": 45,
   "metadata": {},
   "outputs": [
    {
     "data": {
      "text/plain": [
       "'12345.0'"
      ]
     },
     "execution_count": 45,
     "metadata": {},
     "output_type": "execute_result"
    }
   ],
   "source": [
    "str(12345.0)"
   ]
  },
  {
   "cell_type": "markdown",
   "metadata": {},
   "source": [
    "str() 함수는 주어진 객체를 문자열 형식으로 변환하는 함수이다. 실수 12345.0을 str() 함수에 전달했기 때문에, 12345.0이 문자열로 변환된다."
   ]
  },
  {
   "cell_type": "code",
   "execution_count": 46,
   "metadata": {},
   "outputs": [
    {
     "data": {
      "text/plain": [
       "'[1, 2, 3]'"
      ]
     },
     "execution_count": 46,
     "metadata": {},
     "output_type": "execute_result"
    }
   ],
   "source": [
    "str([1,2,3])"
   ]
  },
  {
   "cell_type": "markdown",
   "metadata": {},
   "source": [
    "리스트 [1, 2, 3]을 str() 함수에 전달하면, 리스트를 그 자체의 문자열로 변환된다."
   ]
  },
  {
   "cell_type": "markdown",
   "metadata": {},
   "source": [
    "float([1,2,3])는 에러가 난다. str이나 숫자만 가능하다. list나 튜플은 안된다."
   ]
  },
  {
   "cell_type": "code",
   "execution_count": 47,
   "metadata": {},
   "outputs": [
    {
     "data": {
      "text/plain": [
       "123.45"
      ]
     },
     "execution_count": 47,
     "metadata": {},
     "output_type": "execute_result"
    }
   ],
   "source": [
    "float('123.45')"
   ]
  },
  {
   "cell_type": "markdown",
   "metadata": {},
   "source": [
    "문자열 '123.45'를 실수(float)로 변환하는 연산이다. float() 함수에 전달하면 실수 123.45로 변환된다."
   ]
  },
  {
   "cell_type": "markdown",
   "metadata": {},
   "source": [
    "float('z123.45') float() 함수는 문자열이 유효한 실수 형식일 경우에만 이를 실수로 변환할 수 있다. "
   ]
  },
  {
   "cell_type": "markdown",
   "metadata": {},
   "source": [
    "# 추가학습 내용 끝"
   ]
  },
  {
   "cell_type": "code",
   "execution_count": 48,
   "metadata": {},
   "outputs": [
    {
     "name": "stdout",
     "output_type": "stream",
     "text": [
      "(var_x)는 <class 'range'>\n",
      "------------------------------\n",
      "[-10, -8, -6, -4, -2]는 <class 'list'>\n",
      "------------------------------\n",
      "(-10, -8, -6, -4, -2)는 <class 'tuple'>\n",
      "------------------------------\n",
      "{-10, -8, -6, -4, -2}는 <class 'set'>\n"
     ]
    }
   ],
   "source": [
    "var_x = range(-10, 0, 2)\n",
    "\n",
    "print(f'(var_x)는 {type(var_x)}', end='\\n'+'-'*30+'\\n')\n",
    "\n",
    "var_y = list(var_x)\n",
    "\n",
    "print(f'{var_y}는 {type(var_y)}', end='\\n'+'-'*30+'\\n')\n",
    "\n",
    "var_y = tuple(var_x)\n",
    "\n",
    "print(f'{var_y}는 {type(var_y)}', end='\\n'+'-'*30+'\\n')\n",
    "\n",
    "var_y = set(var_x)\n",
    "\n",
    "print(f'{var_y}는 {type(var_y)}')"
   ]
  },
  {
   "cell_type": "code",
   "execution_count": 49,
   "metadata": {},
   "outputs": [
    {
     "name": "stdout",
     "output_type": "stream",
     "text": [
      "abcdab는 <class 'str'>\n",
      "------------------------------\n",
      "['a', 'b', 'c', 'd', 'a', 'b']는 <class 'list'>\n",
      "------------------------------\n",
      "('a', 'b', 'c', 'd', 'a', 'b')는 <class 'tuple'>\n",
      "------------------------------\n",
      "{'b', 'c', 'd', 'a'}는 <class 'set'>\n",
      "------------------------------\n"
     ]
    }
   ],
   "source": [
    "var_x = \"abcdab\"\n",
    "\n",
    "print(f\"{var_x}는 {type(var_x)}\", end='\\n'+'-'*30+'\\n')\n",
    "\n",
    "var_y = list(var_x)\n",
    "print(f\"{var_y}는 {type(var_y)}\", end='\\n'+'-'*30+'\\n')\n",
    "\n",
    "var_y = tuple(var_x)\n",
    "print(f\"{var_y}는 {type(var_y)}\", end='\\n'+'-'*30+'\\n')\n",
    "\n",
    "var_y = set(var_x)\n",
    "print(f\"{var_y}는 {type(var_y)}\", end='\\n'+'-'*30+'\\n')\n"
   ]
  },
  {
   "cell_type": "markdown",
   "metadata": {},
   "source": [
    "# 추가학습 내용"
   ]
  },
  {
   "cell_type": "code",
   "execution_count": 50,
   "metadata": {},
   "outputs": [
    {
     "name": "stdout",
     "output_type": "stream",
     "text": [
      "1\n",
      "2\n",
      "3\n",
      "4\n",
      "5\n"
     ]
    }
   ],
   "source": [
    "for i in [1,2,3,4,5]:\n",
    "    print (i)"
   ]
  },
  {
   "cell_type": "markdown",
   "metadata": {},
   "source": [
    "for 루프를 사용하여 리스트 [1, 2, 3, 4, 5]의 각 요소를 하나씩 출력하는 코드이다."
   ]
  },
  {
   "cell_type": "code",
   "execution_count": 51,
   "metadata": {},
   "outputs": [
    {
     "name": "stdout",
     "output_type": "stream",
     "text": [
      "1\n",
      "2\n",
      "3\n",
      "4\n",
      "5\n"
     ]
    }
   ],
   "source": [
    "for i in (1,2,3,4,5):\n",
    "    print (i)"
   ]
  },
  {
   "cell_type": "markdown",
   "metadata": {},
   "source": [
    "for 루프를 사용하여 튜플 (1,2,3,4,5)의 각 요소를 하나씩 출력하는 코드이다."
   ]
  },
  {
   "cell_type": "code",
   "execution_count": 52,
   "metadata": {},
   "outputs": [
    {
     "name": "stdout",
     "output_type": "stream",
     "text": [
      "1\n",
      "2\n",
      "3\n",
      "4\n",
      "5\n"
     ]
    }
   ],
   "source": [
    "for i in {1,2,3,4,5}:\n",
    "    print (i)"
   ]
  },
  {
   "cell_type": "markdown",
   "metadata": {},
   "source": [
    "for 루프를 사용하여 집합 {1,2,3,4,5}의 각 요소를 하나씩 출력하는 코드이다."
   ]
  },
  {
   "cell_type": "code",
   "execution_count": 53,
   "metadata": {},
   "outputs": [
    {
     "name": "stdout",
     "output_type": "stream",
     "text": [
      "1\n",
      "2\n",
      "3\n",
      "4\n",
      "5\n"
     ]
    }
   ],
   "source": [
    "for i in {5,4,3,2,1,2,3,4,5}:\n",
    "    print (i)"
   ]
  },
  {
   "cell_type": "markdown",
   "metadata": {},
   "source": [
    "집합이기에 중복을 없애고 순서가 의미없다."
   ]
  },
  {
   "cell_type": "code",
   "execution_count": 54,
   "metadata": {},
   "outputs": [
    {
     "name": "stdout",
     "output_type": "stream",
     "text": [
      "5\n",
      "4\n",
      "3\n",
      "2\n",
      "1\n",
      "2\n",
      "3\n",
      "4\n",
      "5\n"
     ]
    }
   ],
   "source": [
    "for i in [5,4,3,2,1,2,3,4,5]:\n",
    "    print (i)"
   ]
  },
  {
   "cell_type": "markdown",
   "metadata": {},
   "source": [
    "for 루프를 사용하여 리스트 [5, 4, 3, 2, 1, 2, 3, 4, 5]의 각 요소를 하나씩 출력하는 코드이다."
   ]
  },
  {
   "cell_type": "markdown",
   "metadata": {},
   "source": [
    "a=3\n",
    " b=4\n",
    "a+b는 에러가 난다. 인덴트를 하면 안되기 때문이다."
   ]
  },
  {
   "cell_type": "code",
   "execution_count": 55,
   "metadata": {},
   "outputs": [
    {
     "data": {
      "text/plain": [
       "7"
      ]
     },
     "execution_count": 55,
     "metadata": {},
     "output_type": "execute_result"
    }
   ],
   "source": [
    "a=3; b=4\n",
    "a+b"
   ]
  },
  {
   "cell_type": "code",
   "execution_count": 56,
   "metadata": {},
   "outputs": [
    {
     "data": {
      "text/plain": [
       "7"
      ]
     },
     "execution_count": 56,
     "metadata": {},
     "output_type": "execute_result"
    }
   ],
   "source": [
    "a=3; b=4; a+b"
   ]
  },
  {
   "cell_type": "markdown",
   "metadata": {},
   "source": [
    ";는 줄바꿈을 하지 않아도 한줄에 쓸 수 있도록 도와준다."
   ]
  },
  {
   "cell_type": "code",
   "execution_count": 57,
   "metadata": {},
   "outputs": [
    {
     "data": {
      "text/plain": [
       "[2, 5, 8]"
      ]
     },
     "execution_count": 57,
     "metadata": {},
     "output_type": "execute_result"
    }
   ],
   "source": [
    "list(range(2, 10,3))"
   ]
  },
  {
   "cell_type": "markdown",
   "metadata": {},
   "source": [
    "2부터 10전까지 상승폭 3으로 출력하는 코드이다."
   ]
  },
  {
   "cell_type": "code",
   "execution_count": 58,
   "metadata": {},
   "outputs": [
    {
     "data": {
      "text/plain": [
       "[29, 26, 23, 20, 17, 14, 11]"
      ]
     },
     "execution_count": 58,
     "metadata": {},
     "output_type": "execute_result"
    }
   ],
   "source": [
    "list(range(29, 10, -3))"
   ]
  },
  {
   "cell_type": "markdown",
   "metadata": {},
   "source": [
    "29부터 10전까지 3씩 감소하는 숫자를 출력하는 코드이다."
   ]
  },
  {
   "cell_type": "code",
   "execution_count": 59,
   "metadata": {},
   "outputs": [
    {
     "data": {
      "text/plain": [
       "[0, 1, 2, 3, 4, 5, 6, 7, 8, 9]"
      ]
     },
     "execution_count": 59,
     "metadata": {},
     "output_type": "execute_result"
    }
   ],
   "source": [
    "list(range(10))"
   ]
  },
  {
   "cell_type": "markdown",
   "metadata": {},
   "source": [
    "0부터 9까지의 숫자를 생성하고, 이를 리스트로 변환하는 코드이다."
   ]
  },
  {
   "cell_type": "code",
   "execution_count": 60,
   "metadata": {},
   "outputs": [
    {
     "data": {
      "text/plain": [
       "[2, 3, 4, 5, 6, 7, 8, 9]"
      ]
     },
     "execution_count": 60,
     "metadata": {},
     "output_type": "execute_result"
    }
   ],
   "source": [
    "list(range(2, 10))"
   ]
  },
  {
   "cell_type": "markdown",
   "metadata": {},
   "source": [
    " 2부터 9까지의 숫자를 생성하고 이를 리스트로 변환하는 코드이다."
   ]
  },
  {
   "cell_type": "markdown",
   "metadata": {},
   "source": [
    "list(range(29, 10, -3.5))는 에러이다. range() 함수는 정수 값만을 사용할 수 있기 때문이다."
   ]
  },
  {
   "cell_type": "markdown",
   "metadata": {},
   "source": [
    "list(range(29.4, 10, -3))는 에러이다. range() 함수는 정수 값만을 사용할 수 있기 때문이다."
   ]
  }
 ],
 "metadata": {
  "kernelspec": {
   "display_name": "base",
   "language": "python",
   "name": "python3"
  },
  "language_info": {
   "codemirror_mode": {
    "name": "ipython",
    "version": 3
   },
   "file_extension": ".py",
   "mimetype": "text/x-python",
   "name": "python",
   "nbconvert_exporter": "python",
   "pygments_lexer": "ipython3",
   "version": "3.12.9"
  }
 },
 "nbformat": 4,
 "nbformat_minor": 2
}
